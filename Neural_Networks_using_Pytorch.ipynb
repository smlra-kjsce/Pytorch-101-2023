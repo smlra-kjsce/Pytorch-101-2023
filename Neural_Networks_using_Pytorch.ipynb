{
  "nbformat": 4,
  "nbformat_minor": 0,
  "metadata": {
    "colab": {
      "provenance": [],
      "authorship_tag": "ABX9TyOqT4fV0HqqEjJ2PIVhiM/p",
      "include_colab_link": true
    },
    "kernelspec": {
      "name": "python3",
      "display_name": "Python 3"
    },
    "language_info": {
      "name": "python"
    },
    "accelerator": "GPU",
    "gpuClass": "standard"
  },
  "cells": [
    {
      "cell_type": "markdown",
      "metadata": {
        "id": "view-in-github",
        "colab_type": "text"
      },
      "source": [
        "<a href=\"https://colab.research.google.com/github/smlra-kjsce/Pytorch-101-2023/blob/main/Neural_Networks_using_Pytorch.ipynb\" target=\"_parent\"><img src=\"https://colab.research.google.com/assets/colab-badge.svg\" alt=\"Open In Colab\"/></a>"
      ]
    },
    {
      "cell_type": "code",
      "source": [
        "import torch"
      ],
      "metadata": {
        "id": "tZeF_iz7llZh"
      },
      "execution_count": null,
      "outputs": []
    },
    {
      "cell_type": "code",
      "execution_count": null,
      "metadata": {
        "colab": {
          "base_uri": "https://localhost:8080/"
        },
        "id": "RqcIgy3Iy5GF",
        "outputId": "67bc0af0-9d28-4f5d-ff99-9357f67ec58f"
      },
      "outputs": [
        {
          "output_type": "stream",
          "name": "stdout",
          "text": [
            "no of features:  4\n",
            "tensor([[1., 0., 1., 0.],\n",
            "        [1., 0., 1., 1.],\n",
            "        [0., 1., 0., 1.]]) \n",
            "\n",
            "tensor([[1.],\n",
            "        [1.],\n",
            "        [0.]])\n"
          ]
        }
      ],
      "source": [
        "\n",
        "#Input tensor\n",
        "X = torch.Tensor([[1,0,1,0],[1,0,1,1],[0,1,0,1]])\n",
        "\n",
        "print(\"no of features: \", X.shape[1])\n",
        "#Output\n",
        "y = torch.Tensor([[1],[1],[0]])\n",
        "\n",
        "\n",
        "print(X, '\\n')\n",
        "print(y)"
      ]
    },
    {
      "cell_type": "code",
      "source": [
        "#Sigmoid Function\n",
        "def sigmoid (x):\n",
        "    return 1/(1 + torch.exp(-x))\n",
        "\n",
        "#Derivative of Sigmoid Function/\n",
        "def derivatives_sigmoid(x):\n",
        "    return sigmoid(x) * (1 - sigmoid(x))"
      ],
      "metadata": {
        "id": "nLfTl3Yny53Q"
      },
      "execution_count": null,
      "outputs": []
    },
    {
      "cell_type": "code",
      "source": [
        "#Variable initialization\n",
        "\n",
        "epoch=7000 #Setting training iterations\n",
        "lr=0.1 #Setting learning rate\n",
        "\n",
        "inputlayer_neurons = X.shape[1] #number of features in data set\n",
        "hiddenlayer_neurons = 3 #number of hidden layer neurons\n",
        "output_neurons = 1 #number of neurons in output layer\n",
        "\n",
        "#weight and bias initialization\n",
        "wh=torch.randn(inputlayer_neurons, hiddenlayer_neurons).type(torch.FloatTensor)\n",
        "bh=torch.randn(1, hiddenlayer_neurons).type(torch.FloatTensor)\n",
        "\n",
        "wout=torch.randn(hiddenlayer_neurons, output_neurons)\n",
        "bout=torch.randn(1, output_neurons)"
      ],
      "metadata": {
        "id": "0rqFB4BHzDV2"
      },
      "execution_count": null,
      "outputs": []
    },
    {
      "cell_type": "code",
      "source": [
        "for i in range(epoch):\n",
        "    #Forward Propogation\n",
        "    hidden_layer_input1 = torch.mm(X, wh)\n",
        "    hidden_layer_input = hidden_layer_input1 + bh\n",
        "    hidden_layer_activations = sigmoid(hidden_layer_input)\n",
        "\n",
        "    output_layer_input1 = torch.mm(hidden_layer_activations, wout)\n",
        "    output_layer_input = output_layer_input1 + bout\n",
        "    output = sigmoid(output_layer_input)\n",
        "\n",
        "    #Backpropagation\n",
        "    E = y-output\n",
        "    slope_output_layer = derivatives_sigmoid(output)\n",
        "    slope_hidden_layer = derivatives_sigmoid(hidden_layer_activations)\n",
        "    d_output = E * slope_output_layer\n",
        "    Error_at_hidden_layer = torch.mm(d_output, wout.t())\n",
        "    d_hiddenlayer = Error_at_hidden_layer * slope_hidden_layer\n",
        "    wout += torch.mm(hidden_layer_activations.t(), d_output) *lr\n",
        "    bout += d_output.sum() *lr\n",
        "    wh += torch.mm(X.t(), d_hiddenlayer) *lr\n",
        "    bh += d_output.sum() *lr"
      ],
      "metadata": {
        "id": "HqxBtOtCzFbf"
      },
      "execution_count": null,
      "outputs": []
    },
    {
      "cell_type": "code",
      "source": [
        "print('actual :\\n', y, '\\n')\n",
        "print('predicted :\\n', output)"
      ],
      "metadata": {
        "colab": {
          "base_uri": "https://localhost:8080/"
        },
        "id": "Llt_Alt0zHq6",
        "outputId": "41ab11c6-4a95-416d-b414-85d379a2b724"
      },
      "execution_count": null,
      "outputs": [
        {
          "output_type": "stream",
          "name": "stdout",
          "text": [
            "actual :\n",
            " tensor([[1.],\n",
            "        [1.],\n",
            "        [0.]]) \n",
            "\n",
            "predicted :\n",
            " tensor([[0.9965],\n",
            "        [0.9964],\n",
            "        [0.0056]])\n"
          ]
        }
      ]
    },
    {
      "cell_type": "code",
      "source": [],
      "metadata": {
        "id": "M4ti0eLazJRb"
      },
      "execution_count": null,
      "outputs": []
    }
  ]
}